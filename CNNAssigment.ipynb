{
 "cells": [
  {
   "cell_type": "code",
   "execution_count": 2,
   "metadata": {
    "colab": {
     "base_uri": "https://localhost:8080/",
     "height": 34
    },
    "colab_type": "code",
    "id": "Mo6AQwt13s5N",
    "outputId": "1f98463e-79ff-4a79-e103-8c756cb005d8"
   },
   "outputs": [
    {
     "name": "stderr",
     "output_type": "stream",
     "text": [
      "Using TensorFlow backend.\n"
     ]
    }
   ],
   "source": [
    "# Convolutional Neural Network\n",
    "\n",
    "# Installing Theano\n",
    "#!pip install --upgrade --no-deps git+git://github.com/Theano/Theano.git\n",
    "\n",
    "# Installing Tensorflow\n",
    "#!pip install tensorflow\n",
    "\n",
    "# Installing Keras\n",
    "#!pip install --upgrade keras\n",
    "\n",
    "# Part 1 - Building the CNN\n",
    "\n",
    "# Importing the Keras libraries and packages\n",
    "from keras.models import Sequential\n",
    "from keras.layers import Conv2D\n",
    "from keras.layers import MaxPooling2D\n",
    "from keras.layers import Flatten\n",
    "from keras.layers import Dense\n",
    "\n",
    "# Initialising the CNN\n",
    "classifier = Sequential()\n",
    "\n",
    "# Step 1 - Convolution\n",
    "classifier.add(Conv2D(32, (3, 3), input_shape = (64, 64, 3), activation = 'relu'))\n",
    "\n",
    "# Step 2 - Pooling\n",
    "classifier.add(MaxPooling2D(pool_size = (2, 2)))\n",
    "\n",
    "# Adding a second convolutional layer\n",
    "classifier.add(Conv2D(32, (3, 3), activation = 'relu'))\n",
    "classifier.add(MaxPooling2D(pool_size = (2, 2)))\n",
    "\n",
    "\n",
    "\n",
    "# Step 3 - Flattening\n",
    "classifier.add(Flatten())\n",
    "\n",
    "# Step 4 - Full connection\n",
    "classifier.add(Dense(units = 128, activation = 'relu'))\n",
    "\n",
    "classifier.add(Dense(units = 1, activation = 'sigmoid'))\n",
    "\n",
    "# Compiling the CNN\n",
    "classifier.compile(optimizer = 'adam', loss = 'binary_crossentropy', metrics = ['accuracy'])"
   ]
  },
  {
   "cell_type": "code",
   "execution_count": 3,
   "metadata": {
    "colab": {
     "base_uri": "https://localhost:8080/",
     "height": 34
    },
    "colab_type": "code",
    "id": "fSklqTbYFWpu",
    "outputId": "31103008-e08a-46c1-a097-4f9a42a5aa0a"
   },
   "outputs": [
    {
     "name": "stdout",
     "output_type": "stream",
     "text": [
      "Found 28 images belonging to 3 classes.\n"
     ]
    }
   ],
   "source": [
    "# Part 2 - Fitting the CNN to the images\n",
    "\n",
    "from keras.preprocessing.image import ImageDataGenerator\n",
    "\n",
    "train_datagen = ImageDataGenerator(rescale = 1./255,\n",
    "                                   shear_range = 0.2,\n",
    "                                   zoom_range = 0.2,\n",
    "                                   horizontal_flip = True)\n",
    "\n",
    "test_datagen = ImageDataGenerator(rescale = 1./255)\n",
    "\n",
    "training_set = train_datagen.flow_from_directory('/content/drive/My Drive/TRAIN',\n",
    "                                                 target_size = (64, 64),\n",
    "                                                 batch_size = 32,\n",
    "                                                 class_mode = 'binary')\n",
    "\n",
    "\n"
   ]
  },
  {
   "cell_type": "code",
   "execution_count": 4,
   "metadata": {
    "colab": {
     "base_uri": "https://localhost:8080/",
     "height": 34
    },
    "colab_type": "code",
    "id": "yKVIMoRPZbDg",
    "outputId": "b0f606cb-ca52-42df-d804-00de4356cbec"
   },
   "outputs": [
    {
     "name": "stdout",
     "output_type": "stream",
     "text": [
      "Found 3 images belonging to 3 classes.\n"
     ]
    }
   ],
   "source": [
    "test_set = test_datagen.flow_from_directory('/content/drive/My Drive/TEST',\n",
    "                                            target_size = (64, 64),\n",
    "                                            batch_size = 32,\n",
    "                                            class_mode = 'binary')"
   ]
  },
  {
   "cell_type": "markdown",
   "metadata": {
    "colab_type": "text",
    "id": "31iCKrFWG4A7"
   },
   "source": [
    "# New Section"
   ]
  },
  {
   "cell_type": "code",
   "execution_count": 6,
   "metadata": {
    "colab": {
     "base_uri": "https://localhost:8080/",
     "height": 406
    },
    "colab_type": "code",
    "id": "zd57lMvYFXOc",
    "outputId": "284202e1-fcee-43f5-fce1-e9618f20ec4a"
   },
   "outputs": [
    {
     "name": "stdout",
     "output_type": "stream",
     "text": [
      "Epoch 1/10\n",
      "100/100 [==============================] - 904s 9s/step - loss: -24112.3495 - accuracy: 0.3571 - val_loss: -636863.6250 - val_accuracy: 0.3333\n",
      "Epoch 2/10\n",
      "100/100 [==============================] - 892s 9s/step - loss: -892933.1437 - accuracy: 0.3571 - val_loss: -11925147.0000 - val_accuracy: 0.3333\n",
      "Epoch 3/10\n",
      "100/100 [==============================] - 884s 9s/step - loss: -7087395.8825 - accuracy: 0.3571 - val_loss: -67151624.0000 - val_accuracy: 0.3333\n",
      "Epoch 4/10\n",
      "100/100 [==============================] - 871s 9s/step - loss: -28398426.0800 - accuracy: 0.3571 - val_loss: -223241536.0000 - val_accuracy: 0.3333\n",
      "Epoch 5/10\n",
      "100/100 [==============================] - 882s 9s/step - loss: -79250006.4400 - accuracy: 0.3571 - val_loss: -553352640.0000 - val_accuracy: 0.3333\n",
      "Epoch 6/10\n",
      "100/100 [==============================] - 902s 9s/step - loss: -178336635.0400 - accuracy: 0.3571 - val_loss: -1149603456.0000 - val_accuracy: 0.3333\n",
      "Epoch 7/10\n",
      "100/100 [==============================] - 864s 9s/step - loss: -345338796.9600 - accuracy: 0.3571 - val_loss: -2111049728.0000 - val_accuracy: 0.3333\n",
      "Epoch 8/10\n",
      "100/100 [==============================] - 878s 9s/step - loss: -605817598.4000 - accuracy: 0.3571 - val_loss: -3553533184.0000 - val_accuracy: 0.3333\n",
      "Epoch 9/10\n",
      "100/100 [==============================] - 858s 9s/step - loss: -976133323.5200 - accuracy: 0.3571 - val_loss: -5587192320.0000 - val_accuracy: 0.3333\n",
      "Epoch 10/10\n",
      "100/100 [==============================] - 839s 8s/step - loss: -1500301164.8000 - accuracy: 0.3571 - val_loss: -8333328384.0000 - val_accuracy: 0.3333\n"
     ]
    },
    {
     "data": {
      "text/plain": [
       "<keras.callbacks.callbacks.History at 0x7f8930261cc0>"
      ]
     },
     "execution_count": 6,
     "metadata": {
      "tags": []
     },
     "output_type": "execute_result"
    }
   ],
   "source": [
    "#Training\n",
    "\n",
    "classifier.fit_generator(training_set,\n",
    "                         steps_per_epoch = 100,\n",
    "                         epochs = 10,\n",
    "                         validation_data = test_set,    \n",
    "                         validation_steps = 2000)"
   ]
  },
  {
   "cell_type": "code",
   "execution_count": 7,
   "metadata": {
    "colab": {
     "base_uri": "https://localhost:8080/",
     "height": 34
    },
    "colab_type": "code",
    "id": "ZgXW6ojkGJUs",
    "outputId": "87416cd9-ba46-4ad8-ee95-5763c23a7abd"
   },
   "outputs": [
    {
     "name": "stdout",
     "output_type": "stream",
     "text": [
      "anadi\n"
     ]
    }
   ],
   "source": [
    "# Part 3 - Making new predictions\n",
    "import numpy as np\n",
    "from keras.preprocessing import image\n",
    "test_image = image.load_img('/content/drive/My Drive/TEST/ANADI/Anadi.jpg', target_size = (64, 64))\n",
    "test_image = image.img_to_array(test_image)\n",
    "test_image = np.expand_dims(test_image, axis = 0)\n",
    "result = classifier.predict(test_image)\n",
    "training_set.class_indices\n",
    "if result[0][0] == 1:\n",
    "    prediction = 'anadi'\n",
    "    print(prediction)\n",
    "elif result[0][0] == 2:\n",
    "    prediction = 'saumya'\n",
    "    print(prediction)\n",
    "else:\n",
    "    prediction = 'advika'\n",
    "    print(prediction)"
   ]
  }
 ],
 "metadata": {
  "accelerator": "GPU",
  "colab": {
   "collapsed_sections": [],
   "name": "CNNAssigment.ipynb",
   "provenance": []
  },
  "kernelspec": {
   "display_name": "Python 3",
   "language": "python",
   "name": "python3"
  },
  "language_info": {
   "codemirror_mode": {
    "name": "ipython",
    "version": 3
   },
   "file_extension": ".py",
   "mimetype": "text/x-python",
   "name": "python",
   "nbconvert_exporter": "python",
   "pygments_lexer": "ipython3",
   "version": "3.7.1"
  }
 },
 "nbformat": 4,
 "nbformat_minor": 1
}
